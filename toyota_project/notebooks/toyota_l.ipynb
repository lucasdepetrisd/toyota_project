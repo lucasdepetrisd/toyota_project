{
 "cells": [
  {
   "cell_type": "code",
   "execution_count": 141,
   "id": "bf5fe4e2",
   "metadata": {},
   "outputs": [],
   "source": [
    "import pandas as pd\n",
    "import matplotlib.pyplot as plt\n",
    "import statsmodels.api as sm\n",
    "from sklearn.model_selection import train_test_split\n",
    "from sklearn.metrics import mean_squared_error, mean_absolute_error, r2_score\n",
    "import seaborn as sns\n",
    "import mlflow\n",
    "import joblib\n",
    "import os"
   ]
  },
  {
   "cell_type": "code",
   "execution_count": 142,
   "id": "0e7adde4",
   "metadata": {},
   "outputs": [
    {
     "data": {
      "text/plain": [
       "<Experiment: artifact_location='mlflow-artifacts:/833447958012810940', creation_time=1747431455974, experiment_id='833447958012810940', last_update_time=1747431455974, lifecycle_stage='active', name='toyota_project', tags={}>"
      ]
     },
     "execution_count": 142,
     "metadata": {},
     "output_type": "execute_result"
    }
   ],
   "source": [
    "# Configurar MLflow\n",
    "mlflow.set_tracking_uri(\"http://localhost:5000\")\n",
    "mlflow.set_experiment(\"toyota_project\")"
   ]
  },
  {
   "cell_type": "code",
   "execution_count": 143,
   "id": "82e4ec59",
   "metadata": {},
   "outputs": [],
   "source": [
    "# Cargar dataset\n",
    "df = pd.read_csv(\n",
    "    \"https://raw.githubusercontent.com/dodobeatle/dataeng-datos/refs/heads/main/ToyotaCorolla.csv\",\n",
    "    encoding=\"utf8\",\n",
    "    engine=\"python\"\n",
    ")"
   ]
  },
  {
   "cell_type": "code",
   "execution_count": 144,
   "id": "63e04a99",
   "metadata": {},
   "outputs": [
    {
     "data": {
      "text/plain": [
       "0       13500\n",
       "1       13750\n",
       "2       13950\n",
       "3       14950\n",
       "4       13750\n",
       "        ...  \n",
       "1431     7500\n",
       "1432    10845\n",
       "1433     8500\n",
       "1434     7250\n",
       "1435     6950\n",
       "Name: Price, Length: 1436, dtype: int64"
      ]
     },
     "execution_count": 144,
     "metadata": {},
     "output_type": "execute_result"
    }
   ],
   "source": [
    "# Separar variables\n",
    "X = df.drop(\"Price\", axis=1)\n",
    "y = df[\"Price\"]\n",
    "\n",
    "X\n",
    "y"
   ]
  },
  {
   "cell_type": "code",
   "execution_count": 145,
   "id": "118b8cc1",
   "metadata": {},
   "outputs": [],
   "source": [
    "# Filtrar columnas que querés mantener\n",
    "# columns_to_keep = [\"Age_08_04\", \"KM\", \"Fuel_Type\", \"HP\", \"cc\", \"Doors\", \"Gears\", \"Weight\"]\n",
    "# X = df[columns_to_keep]\n",
    "# y = df[\"Price\"]\n",
    "X = df.drop([\"Price\", \"Age_08_04\", \"Model\", \"Met_Color\", \"Automatic\", \"Cylinders\", \"Radio\", \n",
    "             \"Radio_cassette\", \"BOVAG_Guarantee\", \"Mfg_Month\", \"Backseat_Divider\", \"ABS\",\n",
    "             \"Doors\", \"Guarantee_Period\", \"Mistlamps\"], axis=1)\n",
    "\n",
    "# COMBINAR AIRBAGS\n",
    "X[\"Airbag_Count\"] = df[\"Airbag_1\"].fillna(0) + df[\"Airbag_2\"].fillna(0)\n",
    "X.drop([\"Airbag_1\", \"Airbag_2\"], axis=1, inplace=True)\n",
    "\n",
    "# Preprocesamiento\n",
    "X = pd.get_dummies(X, drop_first=True)           # One-hot encoding\n",
    "X = X.apply(pd.to_numeric, errors='coerce')      # Forzar datos a numérico\n",
    "y = pd.to_numeric(y, errors='coerce')            # Lo mismo para el target\n",
    "\n",
    "# Combinar X e y para eliminar filas con NaNs\n",
    "combined = pd.concat([X, y], axis=1).dropna()\n",
    "X = combined.drop(\"Price\", axis=1)\n",
    "y = combined[\"Price\"]\n",
    "\n",
    "# Convertir a float y agregar constante para OLS\n",
    "X = X.astype(float)\n",
    "y = y.astype(float)\n",
    "X = sm.add_constant(X)"
   ]
  },
  {
   "cell_type": "code",
   "execution_count": 146,
   "id": "2c689395",
   "metadata": {},
   "outputs": [],
   "source": [
    "# Split\n",
    "X_train, X_test, y_train, y_test = train_test_split(\n",
    "    X, y, test_size=0.4, random_state=1\n",
    ")"
   ]
  },
  {
   "cell_type": "code",
   "execution_count": 147,
   "id": "c4483b13",
   "metadata": {},
   "outputs": [
    {
     "name": "stdout",
     "output_type": "stream",
     "text": [
      "🏃 View run ols_model_run at: http://localhost:5000/#/experiments/833447958012810940/runs/8cfba474b53b454f92ba10c26908edd9\n",
      "🧪 View experiment at: http://localhost:5000/#/experiments/833447958012810940\n",
      "Modelo OLS registrado con MLflow.\n"
     ]
    }
   ],
   "source": [
    "from statsmodels.stats.outliers_influence import variance_inflation_factor\n",
    "\n",
    "# Iniciar experimento\n",
    "with mlflow.start_run(run_name=\"ols_model_run\"):\n",
    "    # Ajustar modelo\n",
    "    model = sm.OLS(y_train, X_train)\n",
    "    results = model.fit()\n",
    "\n",
    "    # Predicciones\n",
    "    y_pred = results.predict(X_test)\n",
    "\n",
    "    # Métricas\n",
    "    rmse = mean_squared_error(y_test, y_pred)\n",
    "    mae = mean_absolute_error(y_test, y_pred)\n",
    "    r2 = r2_score(y_test, y_pred)\n",
    "\n",
    "    mlflow.log_metric(\"rmse\", rmse)\n",
    "    mlflow.log_metric(\"mae\", mae)\n",
    "    mlflow.log_metric(\"r2_score\", r2)\n",
    "\n",
    "    # Crear carpeta si no existe\n",
    "    os.makedirs(\"mlartifacts\", exist_ok=True)\n",
    "\n",
    "    # Guardar resumen como archivo .txt\n",
    "    summary_path = os.path.join(\"mlartifacts\", \"ols_summary.txt\")\n",
    "    with open(summary_path, \"w\") as f:\n",
    "        f.write(results.summary().as_text())\n",
    "    mlflow.log_artifact(summary_path)\n",
    "\n",
    "    # Guardar modelo con joblib\n",
    "    model_path = os.path.join(\"mlartifacts\", \"ols_model.pkl\")\n",
    "    joblib.dump(results, model_path)\n",
    "    mlflow.log_artifact(model_path)\n",
    "\n",
    "    # Guardar nombres de features\n",
    "    features_path = os.path.join(\"mlartifacts\", \"features.txt\")\n",
    "    with open(features_path, \"w\") as f:\n",
    "        f.write(\"\\n\".join(X.columns))\n",
    "    mlflow.log_artifact(features_path)\n",
    "\n",
    "    # =======================\n",
    "    # VIF ANALYSIS\n",
    "    # =======================\n",
    "\n",
    "    vif_data = pd.DataFrame()\n",
    "    vif_data[\"feature\"] = X_train.columns\n",
    "    vif_data[\"VIF\"] = [variance_inflation_factor(X_train.values, i) for i in range(X_train.shape[1])]\n",
    "\n",
    "    vif_path = os.path.join(\"mlartifacts\", \"vif_report.csv\")\n",
    "    vif_data.to_csv(vif_path, index=False)\n",
    "    mlflow.log_artifact(vif_path)\n",
    "\n",
    "    # =======================\n",
    "    # GRÁFICOS\n",
    "    # =======================\n",
    "\n",
    "    # Plot: Real vs. Predicho\n",
    "    plt.figure(figsize=(8, 6))\n",
    "    plt.scatter(y_test, y_pred, alpha=0.6, edgecolors='k')\n",
    "    plt.plot([y_test.min(), y_test.max()], [y_test.min(), y_test.max()], '--r', lw=2)\n",
    "    plt.xlabel(\"Actual Price\")\n",
    "    plt.ylabel(\"Predicted Price\")\n",
    "    plt.title(\"Actual vs. Predicted Price\")\n",
    "    plt.grid(True)\n",
    "    real_vs_pred_path = os.path.join(\"mlartifacts\", \"actual_vs_predicted.png\")\n",
    "    plt.savefig(real_vs_pred_path)\n",
    "    mlflow.log_artifact(real_vs_pred_path)\n",
    "    plt.close()\n",
    "\n",
    "    # Plot: Residuals\n",
    "    residuals = y_test - y_pred\n",
    "    plt.figure(figsize=(8, 6))\n",
    "    plt.scatter(y_pred, residuals, alpha=0.6, edgecolors='k')\n",
    "    plt.axhline(y=0, color='r', linestyle='--')\n",
    "    plt.xlabel(\"Predicted Price\")\n",
    "    plt.ylabel(\"Residuals\")\n",
    "    plt.title(\"Residual Plot\")\n",
    "    plt.grid(True)\n",
    "    residuals_path = os.path.join(\"mlartifacts\", \"residuals_plot.png\")\n",
    "    plt.savefig(residuals_path)\n",
    "    mlflow.log_artifact(residuals_path)\n",
    "    plt.close()\n",
    "\n",
    "    # =======================\n",
    "    # MATRIZ DE CORRELACIÓN\n",
    "    # =======================\n",
    "\n",
    "    plt.figure(figsize=(16, 12))\n",
    "    corr_matrix = pd.concat([X_train, y_train], axis=1).corr()\n",
    "    sns.heatmap(\n",
    "        corr_matrix,\n",
    "        annot=True,\n",
    "        fmt=\".2f\",\n",
    "        cmap=\"coolwarm\",\n",
    "        cbar_kws={\"shrink\": 0.75},\n",
    "        linewidths=0.5,\n",
    "        annot_kws={\"size\": 10}\n",
    "    )\n",
    "    plt.title(\"Correlation Matrix\", fontsize=16)\n",
    "    plt.xticks(rotation=45, ha='right', fontsize=10)\n",
    "    plt.yticks(fontsize=10)\n",
    "\n",
    "    corr_matrix_path = os.path.join(\"mlartifacts\", \"correlation_matrix.png\")\n",
    "    plt.tight_layout()\n",
    "    plt.savefig(corr_matrix_path)\n",
    "    mlflow.log_artifact(corr_matrix_path)\n",
    "    plt.close()\n",
    "\n",
    "\n",
    "print(\"Modelo OLS registrado con MLflow.\")\n"
   ]
  }
 ],
 "metadata": {
  "kernelspec": {
   "display_name": "toyota",
   "language": "python",
   "name": "python3"
  },
  "language_info": {
   "codemirror_mode": {
    "name": "ipython",
    "version": 3
   },
   "file_extension": ".py",
   "mimetype": "text/x-python",
   "name": "python",
   "nbconvert_exporter": "python",
   "pygments_lexer": "ipython3",
   "version": "3.11.12"
  }
 },
 "nbformat": 4,
 "nbformat_minor": 5
}

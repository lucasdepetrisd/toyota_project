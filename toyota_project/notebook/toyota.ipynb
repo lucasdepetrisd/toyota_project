{
 "cells": [
  {
   "cell_type": "code",
   "execution_count": 8,
   "id": "bf5fe4e2",
   "metadata": {},
   "outputs": [],
   "source": [
    "import pandas as pd\n",
    "import statsmodels.api as sm\n",
    "from sklearn.model_selection import train_test_split\n",
    "from sklearn.metrics import mean_squared_error, mean_absolute_error, r2_score\n",
    "import mlflow\n",
    "import joblib\n",
    "import os"
   ]
  },
  {
   "cell_type": "code",
   "execution_count": 9,
   "id": "0e7adde4",
   "metadata": {},
   "outputs": [
    {
     "data": {
      "text/plain": [
       "<Experiment: artifact_location='mlflow-artifacts:/833447958012810940', creation_time=1747431455974, experiment_id='833447958012810940', last_update_time=1747431455974, lifecycle_stage='active', name='toyota_project', tags={}>"
      ]
     },
     "execution_count": 9,
     "metadata": {},
     "output_type": "execute_result"
    }
   ],
   "source": [
    "# Configurar MLflow\n",
    "mlflow.set_tracking_uri(\"http://localhost:5000\")\n",
    "mlflow.set_experiment(\"toyota_project\")"
   ]
  },
  {
   "cell_type": "code",
   "execution_count": 10,
   "id": "82e4ec59",
   "metadata": {},
   "outputs": [],
   "source": [
    "# Cargar dataset\n",
    "df = pd.read_csv(\n",
    "    \"https://raw.githubusercontent.com/dodobeatle/dataeng-datos/refs/heads/main/ToyotaCorolla.csv\",\n",
    "    encoding=\"utf8\",\n",
    "    engine=\"python\"\n",
    ")"
   ]
  },
  {
   "cell_type": "code",
   "execution_count": 11,
   "id": "63e04a99",
   "metadata": {},
   "outputs": [],
   "source": [
    "# Separar variables\n",
    "X = df.drop(\"Price\", axis=1)\n",
    "y = df[\"Price\"]"
   ]
  },
  {
   "cell_type": "code",
   "execution_count": 12,
   "id": "118b8cc1",
   "metadata": {},
   "outputs": [],
   "source": [
    "# Filtrar columnas que querés mantener\n",
    "columns_to_keep = [\"Age_08_04\", \"KM\", \"Fuel_Type\", \"HP\", \"cc\", \"Doors\", \"Gears\", \"Weight\"]\n",
    "X = df[columns_to_keep]\n",
    "y = df[\"Price\"]\n",
    "\n",
    "# Preprocesamiento\n",
    "X = pd.get_dummies(X, drop_first=True)           # One-hot encoding\n",
    "X = X.apply(pd.to_numeric, errors='coerce')      # Forzar datos a numérico\n",
    "y = pd.to_numeric(y, errors='coerce')            # Lo mismo para el target\n",
    "\n",
    "# Combinar X e y para eliminar filas con NaNs\n",
    "combined = pd.concat([X, y], axis=1).dropna()\n",
    "X = combined.drop(\"Price\", axis=1)\n",
    "y = combined[\"Price\"]\n",
    "\n",
    "# Convertir a float y agregar constante para OLS\n",
    "X = X.astype(float)\n",
    "y = y.astype(float)\n",
    "X = sm.add_constant(X)"
   ]
  },
  {
   "cell_type": "code",
   "execution_count": 13,
   "id": "2c689395",
   "metadata": {},
   "outputs": [],
   "source": [
    "# Split\n",
    "X_train, X_test, y_train, y_test = train_test_split(\n",
    "    X, y, test_size=0.4, random_state=1\n",
    ")"
   ]
  },
  {
   "cell_type": "code",
   "execution_count": 14,
   "id": "c4483b13",
   "metadata": {},
   "outputs": [
    {
     "name": "stdout",
     "output_type": "stream",
     "text": [
      "🏃 View run ols_model_run at: http://localhost:5000/#/experiments/833447958012810940/runs/9c8b3606b28f44c8b8519cac548f3020\n",
      "🧪 View experiment at: http://localhost:5000/#/experiments/833447958012810940\n",
      "Modelo OLS registrado con MLflow.\n"
     ]
    }
   ],
   "source": [
    "# Iniciar experimento\n",
    "with mlflow.start_run(run_name=\"ols_model_run\"):\n",
    "    # Ajustar modelo\n",
    "    model = sm.OLS(y_train, X_train)\n",
    "    results = model.fit()\n",
    "\n",
    "    # Predicciones\n",
    "    y_pred = results.predict(X_test)\n",
    "\n",
    "    # Métricas\n",
    "    rmse = mean_squared_error(y_test, y_pred)\n",
    "    mae = mean_absolute_error(y_test, y_pred)\n",
    "    r2 = r2_score(y_test, y_pred)\n",
    "\n",
    "    mlflow.log_metric(\"rmse\", rmse)\n",
    "    mlflow.log_metric(\"mae\", mae)\n",
    "    mlflow.log_metric(\"r2_score\", r2)\n",
    "\n",
    "    # Crear carpeta si no existe\n",
    "    os.makedirs(\"mlartifacts\", exist_ok=True)\n",
    "\n",
    "    # Guardar resumen como archivo .txt\n",
    "    summary_path = os.path.join(\"mlartifacts\", \"ols_summary.txt\")\n",
    "    with open(summary_path, \"w\") as f:\n",
    "        f.write(results.summary().as_text())\n",
    "    mlflow.log_artifact(summary_path)\n",
    "\n",
    "    # Guardar modelo con joblib\n",
    "    model_path = os.path.join(\"mlartifacts\", \"ols_model.pkl\")\n",
    "    joblib.dump(results, model_path)\n",
    "    mlflow.log_artifact(model_path)\n",
    "\n",
    "    # Guardar nombres de features\n",
    "    features_path = os.path.join(\"mlartifacts\", \"features.txt\")\n",
    "    with open(features_path, \"w\") as f:\n",
    "        f.write(\"\\n\".join(X.columns))\n",
    "    mlflow.log_artifact(features_path)\n",
    "\n",
    "print(\"Modelo OLS registrado con MLflow.\")"
   ]
  }
 ],
 "metadata": {
  "kernelspec": {
   "display_name": "toyota",
   "language": "python",
   "name": "python3"
  },
  "language_info": {
   "codemirror_mode": {
    "name": "ipython",
    "version": 3
   },
   "file_extension": ".py",
   "mimetype": "text/x-python",
   "name": "python",
   "nbconvert_exporter": "python",
   "pygments_lexer": "ipython3",
   "version": "3.11.12"
  }
 },
 "nbformat": 4,
 "nbformat_minor": 5
}
